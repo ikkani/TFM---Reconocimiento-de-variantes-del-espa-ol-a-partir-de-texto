{
  "cells": [
    {
      "cell_type": "code",
      "execution_count": null,
      "metadata": {
        "id": "JMrVbeCB44il"
      },
      "outputs": [],
      "source": [
        "import requests\n",
        "from bs4 import BeautifulSoup\n",
        "import pandas as pd\n",
        "import numpy as np"
      ]
    },
    {
      "cell_type": "code",
      "execution_count": null,
      "metadata": {
        "id": "PqxVy_uZ5Emo"
      },
      "outputs": [],
      "source": [
        "class BookingScrapper():\n",
        "  \"\"\"\"Class to scrap booking reviews\"\"\"\n",
        "  def __init__(self, hotel_id, n_reviews, country_code):\n",
        "    self.hotel_id = hotel_id\n",
        "    self.n_reviews = n_reviews\n",
        "    self.base_url = \"https://www.booking.com/reviewlist.es.html?cc1=\" + country_code + \"&dist=1&pagename=\" + hotel_id + \"&type=total&offset=\" # Reviews' endpoint\n",
        "    self.headers = {\n",
        "    \"User-Agent\": \"Mozilla/5.0 (Windows NT 10.0; Win64; x64) AppleWebKit/537.36 (KHTML, like Gecko) Chrome/71.0.3578.98 Safari/537.36\"\n",
        "    }\n",
        "\n",
        "  def scrap(self):\n",
        "    country_list = []\n",
        "    positive_text_list = []\n",
        "    negative_text_list = []\n",
        "\n",
        "    for page in range(0, self.n_reviews+1, 25):\n",
        "      url = self.base_url + str(page)\n",
        "      page = requests.get(url, headers = self.headers)\n",
        "      print(url)\n",
        "      if (page.status_code == 200): # Connection succesful\n",
        "        soup = BeautifulSoup(page.text) # Beautiful Soup to scrap the information\n",
        "        review_blocks = soup.select(\"div .bui-grid\")\n",
        "\n",
        "        for review_block in review_blocks:\n",
        "          country, positive_text, negative_text = self.scrap_review_block(review_block)\n",
        "          if (country != None):\n",
        "            country_list.append(country)\n",
        "            positive_text_list.append(positive_text)\n",
        "            negative_text_list.append(negative_text)\n",
        "    \n",
        "    return country_list, positive_text_list, negative_text_list\n",
        "\n",
        "  def scrap_review_block(self, review_block):\n",
        "    country = review_block.find(\"span\", class_ = \"bui-avatar-block__subtitle\")  # Country of the person who wrote the review\n",
        "    positive_text = \"\"\n",
        "    negative_text = \"\"\n",
        "    \n",
        "    if (country != None):\n",
        "      country = review_block.find(\"span\", class_ = \"bui-avatar-block__subtitle\").text\n",
        "      country = country.replace(\"\\n\", \"\")\n",
        "      reviews = review_block.find_all(\"span\", class_=\"c-review__body\")\n",
        "      \n",
        "      if (len(reviews) >= 2):\n",
        "        positive_text = reviews[0].text\n",
        "        negative_text = reviews[1].text\n",
        "  \n",
        "    return country, positive_text, negative_text  # Each review has a positive text and a negative one\n"
      ]
    },
    {
      "cell_type": "markdown",
      "metadata": {},
      "source": [
        "### Castellano"
      ]
    },
    {
      "cell_type": "code",
      "execution_count": null,
      "metadata": {
        "colab": {
          "base_uri": "https://localhost:8080/"
        },
        "id": "pw5jhH7Q9OkG",
        "outputId": "7db6ca6c-cb62-4881-85fd-bb8c3cd0200c"
      },
      "outputs": [],
      "source": [
        "hoteles_esp = [\"gran-luna-de-granada\", \"be-free-granada\", \"saray\", \"carmengranada\", \"andaluciacenter\", \"alixares\",\n",
        "\"nazaries-business-spa\", \"macia-real-de-la-alhambra\", \"puerta-de-los-aljibes\", \"donjuan\", \"corona-de-granada\",\n",
        "\"riu-plaza-espana\", \"fiesta-gran-colon\", \"nuevomadrid\", \"chamartin\", \"confortel-alcala-norte\", \"courtyardprincesa\", \n",
        "\"agumarmadrid\", \"confortel-atrium\", \"confortelpioxii\", \"castillaplaza\", \"silken-ciudad-de-gijon\",\"principe-de-asturias\",\n",
        "\"suite-1907-gijon\",\"blue-santa-rosa\",\"hernan-cortes\",\"gijon\",\"apartamento-puerto-deportivo-gijon\",\"parador-de-gijon-molino-viejo\",\n",
        "\"acomar\",\"begona\",\"spa-senator-cadiz\",\"tatan\",\"apartamentos-tandem-torres-de-cadiz\",\"tandem-palacio-veedor-de-galeras\",\"casa-el-consejero-de-indias\",\n",
        "\"atico-falla\",\"la-casa-del-consul\",\"plazas-de-ca-diz-apartamentos\",\"candelaria10\",\"apartamento-casa-patio-del-panadero\"] # We get these IDs manually from Booking.com\n",
        "\n",
        "country = []\n",
        "positive = []\n",
        "negative = []\n",
        "\n",
        "for hotel in hoteles_esp:   # We loop every hotel in the list to get the data\n",
        "    bs_esp = BookingScrapper(hotel_id = hotel, n_reviews =  5000, country_code = \"es\")\n",
        "    c, p, n = bs_esp.scrap()\n",
        "\n",
        "    country  += c\n",
        "    positive += p\n",
        "    negative += n"
      ]
    },
    {
      "cell_type": "code",
      "execution_count": null,
      "metadata": {},
      "outputs": [],
      "source": [
        "df_esp = pd.DataFrame(zip(country, positive, negative), columns=[\"País\", \"Positiva\", \"Negativa\"])\n",
        "mask_not_empty = (np.logical_or(df_esp.Positiva != \"\", df_esp.Negativa != \"\"))\n",
        "df_esp.loc[mask_not_empty].to_excel(\"espana.xlsx\", encoding=\"utf-8\", index = None, engine='xlsxwriter')"
      ]
    },
    {
      "cell_type": "markdown",
      "metadata": {},
      "source": [
        "### Mexicano"
      ]
    },
    {
      "cell_type": "code",
      "execution_count": null,
      "metadata": {},
      "outputs": [],
      "source": [
        "hoteles_mex = [\"camino-real-aeropuerto-mexico\", \"galeria-plaza-mexico-city\", \"intercontinental-presidente-mexico-city\",\n",
        "\"cityexpress-el-angel\", \"courtyard-by-marriott-mexico-city-airport\", \"geneve-cd-de-mexico\", \"siesta-express\", \n",
        "\"nh-t2-aeropuerto-mexico\", \"casa-decu\", \"grand-prix\", \"wyndham-garden-polanco\", \"camino-real-mexico\", \n",
        "\"sheraton-maria-isabel-towers\", \"we-hotel-aeropuerto\", \"holiday-inn-express-suites-monterrey-valle\", \n",
        "\"hilton-garden-inn-monterrey-obispado\", \"city-express-plus-monterrey-nuevo-sur\", \"nh-monterrey\", \"kavia-monterrey\", \n",
        "\"holiday-inn-monterrey-valle\", \"fiesta-inn-monterrey-fundidora\", \"riu-plaza-guadalajara\", \"wyndham-garden-guadalajara-acueducto\",\n",
        "\"camino-real-guadalajara\", \"one-guadalajara-centro-historico\", \"velvet-plaza\", \"hangar-inn\", \"krystal-urban-guadalajara\", \n",
        "\"plaza-diana\", \"one-guadalajara-periferico-vallarta\", \"presidente-intercontinental-guadalajara\", \"hampton-inn-by-hilton-guadalajara-aeropuerto\",\n",
        "\"quinta-real-guadalajara\", \"fiesta-americana-grand-guadalajara-country-club\", \"hyatt-regency-andares-guadalajara\", \"la-estancia-tapataa\", \n",
        "\"selina-zone\", \"ocean-view-apartment-yal-mak-an\", \"aloft-cancun\", \"fairfield-inn-suites-by-marriott-cancun-airport\", \n",
        "\"majestic-elegance-playa-mujeres\", \"casamagna-cancun-marriott-resort\", \"senor-frogs-hostel\"]\n",
        "\n",
        "country = []\n",
        "positive = []\n",
        "negative = []\n",
        "\n",
        "for hotel in hoteles_mex:\n",
        "    bs_mex = BookingScrapper(hotel, 2500, \"mx\")\n",
        "    c, p, n = bs_mex.scrap()\n",
        "\n",
        "    country  += c\n",
        "    positive += p\n",
        "    negative += n"
      ]
    },
    {
      "cell_type": "code",
      "execution_count": null,
      "metadata": {},
      "outputs": [],
      "source": [
        "df_mex = pd.DataFrame(zip(country, positive, negative), columns=[\"País\", \"Positiva\", \"Negativa\"])\n",
        "mask_not_empty = (np.logical_or(df_mex.Positiva != \"\", df_mex.Negativa != \"\"))\n",
        "df_mex.loc[mask_not_empty].to_excel(\"mexico.xlsx\", encoding=\"utf-8\", index = None, engine='xlsxwriter')"
      ]
    },
    {
      "cell_type": "markdown",
      "metadata": {},
      "source": [
        "### Austral"
      ]
    },
    {
      "cell_type": "code",
      "execution_count": null,
      "metadata": {},
      "outputs": [],
      "source": [
        "hoteles_arg = [\"dazzler-tower-recoleta\",\"hilton-buenos-aires\",\"broadway-suites\",\"dazzler-palermo\",\"awwa-suites-spa\",\"thames-suites-buenos-aires\",\"pestana-buenos-aires\",\"duque-boutique\",\n",
        "\"nh-latino\",\"hermoso-departamento-tres-ambientes-en-belgrano\",\"plaza-francia\",\"arc-recoleta-boutique-amp-spa\",\"nh-city\",\"recoleta-caba\"]\n",
        "\n",
        "country = []\n",
        "positive = []\n",
        "negative = []\n",
        "\n",
        "for hotel in hoteles_arg:\n",
        "    bs_arg = BookingScrapper(hotel, 3250, \"ar\")\n",
        "    c, p, n = bs_arg.scrap()\n",
        "\n",
        "    country  += c\n",
        "    positive += p\n",
        "    negative += n\n",
        "\n",
        "\n",
        "\n",
        "hoteles_urg = [\"dazzler-montevideo\", \"costanero-montevideo-mgallery\", \"hampton-by-hilton-montevideo-carrasco\", \"ibis-montevideo-montevideo\", \n",
        "\"nh-columbia-montevideo\", \"hyatt-centric-montevideo\", \"pocitos-plaza\", \"soro-montevideo-curio-collection-by-hilton\", \"armon-suites\", \"bit-design\",\n",
        "\"mercure-montevideo-punta-carretas\", \"cala-di-volpe-boutique\", \"regency-golf\"]\n",
        "\n",
        "for hotel in hoteles_urg:\n",
        "    bs_urg = BookingScrapper(hotel, 3250, \"uy\")\n",
        "    c, p, n = bs_urg.scrap()\n",
        "\n",
        "    country  += c\n",
        "    positive += p\n",
        "    negative += n\n",
        "\n",
        "\n",
        "\n",
        "hoteles_par = [\"esplendor-by-wyndham-asuncion\", \"dazzler-asuncion\", \"holiday-inn-express-asuncion-aviadores\", \"resort-yacht-y-golf-club-paraguayo\", \n",
        "\"sheraton-asuncion\", \"the-hub\", \"de-las-torres\", \"la-mision-boutique\", \"la-alondra-factoria\", \"best-location-dpto-de-2-habitaciones-en-asuncion\",\n",
        "\"casino-guarani-esplendor\", \"pantanal-inn\", \"asuncion-rent-suites\", \"granhotelpy\", \"villa-floreal-boutique\", \"crowne-plaza-asuncion\"]\n",
        "\n",
        "for hotel in hoteles_par:\n",
        "    bs_par = BookingScrapper(hotel, 3250, \"py\")\n",
        "    c, p, n = bs_par.scrap()\n",
        "\n",
        "    country  += c\n",
        "    positive += p\n",
        "    negative += n"
      ]
    },
    {
      "cell_type": "code",
      "execution_count": null,
      "metadata": {},
      "outputs": [],
      "source": [
        "df_aus = pd.DataFrame(zip(country, positive, negative), columns=[\"País\", \"Positiva\", \"Negativa\"])\n",
        "mask_not_empty = (np.logical_or(df_aus.Positiva != \"\", df_aus.Negativa != \"\"))\n",
        "df_aus.loc[mask_not_empty].to_excel(\"austral.xlsx\", encoding=\"utf-8\", index = None, engine='xlsxwriter')"
      ]
    },
    {
      "cell_type": "markdown",
      "metadata": {},
      "source": [
        "### Andino"
      ]
    },
    {
      "cell_type": "code",
      "execution_count": null,
      "metadata": {},
      "outputs": [],
      "source": [
        "country = []\n",
        "positive = []\n",
        "negative = []\n",
        "\n",
        "hoteles_ecu = [\"arte\", \"montanita-chill-out-house-montanita\", \"stubel-suites-cafe\", \"colonial-house-quito\", \"juana-de-arco\", \"hostal-la-rosa\", \"wyndham-quito-airport\", \"hostal-rosita-latacunga\", \"hostal-kundalini\", \"oro-verde-manta\", \"hostal-la-orquidea\", \"crespo\", \"selina-quito\", \"hostal-los-nevados\", \"four-points-by-sheraton-cuenca\", \"airport\"]\n",
        "\n",
        "for hotel in hoteles_ecu:\n",
        "    bs_ecu = BookingScrapper(hotel, 1500, \"ec\")\n",
        "    c, p, n = bs_ecu.scrap()\n",
        "\n",
        "    country  += c\n",
        "    positive += p\n",
        "    negative += n"
      ]
    },
    {
      "cell_type": "code",
      "execution_count": null,
      "metadata": {
        "colab": {
          "base_uri": "https://localhost:8080/"
        },
        "id": "eAGKGyYORMQn",
        "outputId": "1d488d5f-28f9-4faf-fba4-249e8784ae40"
      },
      "outputs": [],
      "source": [
        "country = []\n",
        "positive = []\n",
        "negative = []\n",
        "\n",
        "hoteles_ecu = [\"finlandia-quito\", \"sheraton-quito-quito\", \"reina-isabel\", \"jw-marriott-quito\", \"dann-carlton-quito\", \"swissotel-quito\", \n",
        "\"ibis-quito\", \"plaza-grande\", \"radisson-quito\", \"hilton-colon-quito\", \"adamas-house-quito1\", \"la-casona-de-la-ronda\", \"the-penthouse-lodge\", \n",
        "\"wyndham-garden-quito\", \"old-town-quito-suites-quito\"] + [\n",
        "\"casadelaspena\", \"wyndham-guayaquil\", \"grand-guayaquil\", \"sonesta-guayaquil\", \"unipark\",\n",
        "\"radisson-guayaquil\", \"hilton-colon-guayaquil\", \"sonesta-guayaquil\", \"radisson-guayaquil\"]\n",
        "\n",
        "for hotel in hoteles_ecu:\n",
        "    bs_ecu = BookingScrapper(hotel, 1500, \"ec\")\n",
        "    c, p, n = bs_ecu.scrap()\n",
        "\n",
        "    country  += c\n",
        "    positive += p\n",
        "    negative += n\n",
        "\n",
        "\n",
        "\n",
        "hoteles_per = [\"ramada-costa-del-sol-lima-airport\", \"trendy-host-mid-miraflores\", \"nm-lima-lima\", \"iberostar-selection-miraflores\", \n",
        "\"jw-marriott-lima\", \"waterfront-miraflores-next-to-marriott\", \"casa-republica-barranco\", \"belma-boutique-bed-and-breakfast\", \n",
        "\"costa-del-sol-wyndham-salaverry\", \"ac-lima-miraflores\", \"la-luna-inn\", \"aloft-lima-miraflores\", \"pullman-lima-miraflores\", \n",
        "\"country-club-lima\", \"courtyard-by-marriott-lima-miraflores\", \"arts-boutique-b\"] + [\n",
        "    \"quechua-hostal\", \"peramada-by-wyndham-costa-del-sol-cusco\", \"sonesta-cusco\", \"amaru-hostal-i\", \"cusco-cusco\", \"antigua-casona-san-blas\",\n",
        "    \"casa-matara-cusco\", \"quechua-san-blas-ii\", \"casa-andina-private-collection-cusco\", \"hostal-el-triunfo\" , \"ankawa\", \"waynapicchu\"\n",
        "] + [\n",
        "    \"heidinger\", \"la-hosteria\", \"diamond\", \"akas-apartments\", \"el-refugio-de-vichayito\", \"amp-casino-boulevard\", \n",
        "    \"el-mariscal-cusco\", \"casona-plaza\", \"loki-del-mar\", \"del-pilar-miraflores\", \"monte-real\", \"cozy-room-cusco\"\n",
        "]\n",
        "\n",
        "\n",
        "for hotel in hoteles_per:\n",
        "    bs_per = BookingScrapper(hotel, 1500, \"pe\")\n",
        "    c, p, n = bs_per.scrap()\n",
        "\n",
        "    country  += c\n",
        "    positive += p\n",
        "    negative += n\n",
        "\n",
        "\n",
        "\n",
        "hoteles_bol = [\"terrandes\", \"sagarnaga\", \"york-b-amp-b\", \"jumari\", \"de-sal-casa-andina\", \"hostal-la-casa-del-sol\",\n",
        "\"onkel-inn-wagon-sleepbox-uyuni\", \"jardines-de-uyuni\", \"la-siesta\", \"residencial-ikandire-ii\", \"wild-rover-la-paz\", \n",
        "\"360-grados\", \"la-casona-boutique\", \"radisson-santa-cruz\", \"the-adventure-brew-b-amp-b\"] + [\n",
        "    \"kulturberlin\", \"apart-regina\", \"cesar-s-plaza\", \"moraine\", \"la-siesta\", \"america-santa-cruz-de-la-sierra\", \"camino-real\",\n",
        "] + [\"mi-pueblo-samary-boutique\", \"ritz-apart\", \"americana\", \"las-brisas\", \n",
        "\"hostal-ggranny\", \"selina-la-paz\", \"utama\", \"luxstone-executive-amp-suites\", \"le-ciel-d-uyuni\"]\n",
        "\n",
        "for hotel in hoteles_bol:\n",
        "    bs_bol = BookingScrapper(hotel, 1500, \"bo\")\n",
        "    c, p, n = bs_bol.scrap()\n",
        "\n",
        "    country  += c\n",
        "    positive += p\n",
        "    negative += n"
      ]
    },
    {
      "cell_type": "code",
      "execution_count": null,
      "metadata": {},
      "outputs": [],
      "source": [
        "df_and_original = pd.read_excel(\"andino.xlsx\")\n",
        "\n",
        "df_and = pd.DataFrame(zip(country, positive, negative), columns=[\"País\", \"Positiva\", \"Negativa\"])\n",
        "mask_not_empty = (np.logical_or(df_and.Positiva != \"\", df_and.Negativa != \"\"))\n",
        "df_and = df_and.loc[mask_not_empty]\n",
        "df_and = pd.concat([df_and, df_and_original]).drop_duplicates()\n",
        "\n",
        "df_and.to_excel(\"andino.xlsx\", encoding=\"utf-8\", index = None, engine='xlsxwriter')"
      ]
    },
    {
      "cell_type": "markdown",
      "metadata": {},
      "source": [
        "### Caribeño"
      ]
    },
    {
      "cell_type": "code",
      "execution_count": null,
      "metadata": {},
      "outputs": [],
      "source": [
        "country = []\n",
        "positive = []\n",
        "negative = []\n",
        "\n",
        "hoteles_dom = [\"barcelo-bavaro-palace-deluxe\", \"bavaro-princess-all-suites-resort-spa-casino\", \"barcelo-punta-cana\", \n",
        "\"catalonia-santo-domingo\", \"catalonia-punta-cana\", \"be-live-punta-cana\", \"weston-suites\", \"boca-chica-calle-duarte-numero-1\", \n",
        "\"occidental-grand-punta-cana\", \"be-live-grand-marien\", \"catalonia-royal-bavaro\", \"majestic-colonial-punta-cana\", \"alsol-luxury-village-all-inclusive\", \n",
        "\"hard-rock-hotel-and-casino-punta-cana-all-inclusive\"]\n",
        "\n",
        "for hotel in hoteles_dom:\n",
        "    bs_dom = BookingScrapper(hotel, 3250, \"do\")\n",
        "    c, p, n = bs_dom.scrap()\n",
        "\n",
        "    country  += c\n",
        "    positive += p\n",
        "    negative += n\n",
        "\n",
        "\n",
        "\n",
        "hoteles_pr = [\"best-western-plus-condado-palm-inn-amp-suites\", \"hyatt-place-san-juan-city-center\", \"coral-by-the-sea\", \n",
        "\"acacia-boutique\", \"la-concha-renaissance-san-juan-resort\", \"hyatt-house-san-juan\", \"courtyard-isla-verde-beach-resort\", \n",
        "\"san-juan-airport-and-casino\", \"atwindchimesinn\", \"san-juan-marriott-resort-and-stellaris-casino\", \"condado-vanderbilt-san-juan2\", \n",
        "\"sheraton-old-san-juan-casino\", \"el-canario-inn-condado\", \"embassy-suites-san-juan-casino\", \"condado-plaza-hilton\", \"tryp-by-wyndham-isla-verde\", \n",
        "\"san-juan-plaza.es\"] + [\"boho-beach-club\", \"casa-grande-mountain-retreat\", \"alojamientos-casa-de-campo\", \"howard-johnson-ponce\", \n",
        "\"tropica-beach\", \"comfort-inn-suites-san-juan\", \"perichis\", \"que-chevere\", \"hyatt-place-bayamon\", \"four-points-by-sheraton-caguas-real\", \n",
        "\"hyatt-place-manati\", \"embassy-suites-dorado-del-mar-beach-golf-resort\", \"hyatt-hacienda-del-mar\",\n",
        " \"wyndham-grand-rio-mar-beach-resort-amp-spa\", \"hatillo-road-2-kilometer-84\", \"arecibo-inn\", \"candelero-beach-resort\", \"san-juan-plaza\"]\n",
        "\n",
        "\n",
        "for hotel in hoteles_pr:\n",
        "    bs_pr = BookingScrapper(hotel, 3250, \"pr\")\n",
        "    c, p, n = bs_pr.scrap()\n",
        "\n",
        "    country  += c\n",
        "    positive += p\n",
        "    negative += n"
      ]
    },
    {
      "cell_type": "code",
      "execution_count": null,
      "metadata": {},
      "outputs": [],
      "source": [
        "country = []\n",
        "positive = []\n",
        "negative = []\n",
        "\n",
        "hoteles_pr = [\"boho-beach-club\", \"casa-grande-mountain-retreat\", \"alojamientos-casa-de-campo\", \"howard-johnson-ponce\", \n",
        "\"tropica-beach\", \"comfort-inn-suites-san-juan\", \"perichis\", \"que-chevere\", \"hyatt-place-bayamon\", \"four-points-by-sheraton-caguas-real\", \n",
        "\"hyatt-place-manati\", \"embassy-suites-dorado-del-mar-beach-golf-resort\", \"hyatt-hacienda-del-mar\",\n",
        " \"wyndham-grand-rio-mar-beach-resort-amp-spa\", \"hatillo-road-2-kilometer-84\", \"arecibo-inn\", \"candelero-beach-resort\", \"san-juan-plaza\"]\n",
        "\n",
        "\n",
        "for hotel in hoteles_pr:\n",
        "    bs_pr = BookingScrapper(hotel, 1500, \"pr\")\n",
        "    c, p, n = bs_pr.scrap()\n",
        "\n",
        "    country  += c\n",
        "    positive += p\n",
        "    negative += n    "
      ]
    },
    {
      "cell_type": "code",
      "execution_count": null,
      "metadata": {},
      "outputs": [],
      "source": [
        "df_car_original = pd.read_excel(\"caribeno.xlsx\")\n",
        "\n",
        "df_car = pd.DataFrame(zip(country, positive, negative), columns=[\"País\", \"Positiva\", \"Negativa\"])\n",
        "mask_not_empty = (np.logical_or(df_car.Positiva != \"\", df_car.Negativa != \"\"))\n",
        "df_car = df_car.loc[mask_not_empty]\n",
        "df_car = pd.concat([df_car, df_car_original]).drop_duplicates()\n",
        "\n",
        "df_car.to_excel(\"caribeno.xlsx\", encoding=\"utf-8\", index = None, engine='xlsxwriter')"
      ]
    },
    {
      "cell_type": "markdown",
      "metadata": {},
      "source": [
        "### Chileno"
      ]
    },
    {
      "cell_type": "code",
      "execution_count": null,
      "metadata": {},
      "outputs": [],
      "source": [
        "country = []\n",
        "positive = []\n",
        "negative = []\n",
        "\n",
        "hoteles_chile = [\"nodo\", \"novapark\", \"blue-tree-hotels-fundador\", \"brasilia-santiago\", \"hub-providencia\", \"suagon-suites-santiago\",\n",
        "\"apart-b\", \"apart-fraga\", \"ibis-budget-providencia\", \"crowne-plaza-santiago\", \"magnolia\", \"lindo-departamento-a-pasos-del-centro-comercial-costanera-center\",\n",
        "\"ibis-santiago-manquehue-norte\", \"arauco-studio-apartment\", \"santiago-park-plaza\", \"estudio-en-el-golf\", \"capital-bellet\", \"barcela3-suites\",\n",
        "\"nh-collection-casacostanera\", \"director-vitacura\", \"holiday-inn-santiago-airport\", \"kennedy-apartments-los-militares\", \"santiago-rent-apart-santiago\",\n",
        "\"lotus-blanc-studio-w-mountain-view-pool-and-gym\"] + [\"180-boutique\", \"novapark\", \"alto-del-sol-mejillones-express\", \"casablanca-spa-amp-wine\", \n",
        "\"keo-ovalle-casino-resort\", \"limari\", \"casa-wilson\", \"gran-germania\"]\n",
        "\n",
        "\n",
        "for hotel in hoteles_chile:\n",
        "    bs_chl = BookingScrapper(hotel, 1500, \"cl\")\n",
        "    c, p, n = bs_chl.scrap()\n",
        "\n",
        "    country  += c\n",
        "    positive += p\n",
        "    negative += n"
      ]
    },
    {
      "cell_type": "code",
      "execution_count": null,
      "metadata": {},
      "outputs": [],
      "source": [
        "df_chl_original = pd.read_excel(\"chileno.xlsx\")\n",
        "\n",
        "df_chl = pd.DataFrame(zip(country, positive, negative), columns=[\"País\", \"Positiva\", \"Negativa\"])\n",
        "mask_not_empty = (np.logical_or(df_chl.Positiva != \"\", df_chl.Negativa != \"\"))\n",
        "df_chl = df_chl.loc[mask_not_empty]\n",
        "df_chl = pd.concat([df_chl, df_chl_original]).drop_duplicates()\n",
        "\n",
        "df_chl.to_excel(\"chileno.xlsx\", encoding=\"utf-8\", index = None, engine='xlsxwriter')"
      ]
    }
  ],
  "metadata": {
    "colab": {
      "name": "TFM_booking_scapper.ipynb",
      "provenance": []
    },
    "kernelspec": {
      "display_name": "Python 3.9.6 ('ds')",
      "language": "python",
      "name": "python3"
    },
    "language_info": {
      "codemirror_mode": {
        "name": "ipython",
        "version": 3
      },
      "file_extension": ".py",
      "mimetype": "text/x-python",
      "name": "python",
      "nbconvert_exporter": "python",
      "pygments_lexer": "ipython3",
      "version": "3.9.6"
    },
    "vscode": {
      "interpreter": {
        "hash": "80ede1b1e64f5e9b16a01158f445b184b219fe2f375badfd470731146a12ffd3"
      }
    }
  },
  "nbformat": 4,
  "nbformat_minor": 0
}
