{
 "cells": [
  {
   "cell_type": "code",
   "execution_count": 2,
   "metadata": {},
   "outputs": [],
   "source": [
    "import pandas as pd\n",
    "import os\n",
    "import tweepy\n",
    "import sys\n",
    "\n",
    "sys.path.append(\"..\")\n",
    "from scraper_base import Scraper\n"
   ]
  },
  {
   "cell_type": "code",
   "execution_count": 3,
   "metadata": {},
   "outputs": [],
   "source": [
    "class Scraper_El_Pais(Scraper):\n",
    "       \n",
    "    def scrap_article(self, news_bs):\n",
    "        title = news_bs.find('h1', {'class' : 'a_t'}).text\n",
    "        text = news_bs.find('div', {'class' : 'a_c clearfix'}).find_all('p')\n",
    "        text = ' '.join(t.text for t in text)\n",
    "        theme = news_bs.find('ul', {'class' : '_df _ls'}).find_all('a')\n",
    "        theme = ','.join([t.text for t in theme])\n",
    "\n",
    "        return title, text, theme"
   ]
  }
 ],
 "metadata": {
  "interpreter": {
   "hash": "63fd5069d213b44bf678585dea6b12cceca9941eaf7f819626cde1f2670de90d"
  },
  "kernelspec": {
   "display_name": "Python 3.9.1 64-bit",
   "language": "python",
   "name": "python3"
  },
  "language_info": {
   "codemirror_mode": {
    "name": "ipython",
    "version": 3
   },
   "file_extension": ".py",
   "mimetype": "text/x-python",
   "name": "python",
   "nbconvert_exporter": "python",
   "pygments_lexer": "ipython3",
   "version": "3.9.6"
  },
  "orig_nbformat": 4
 },
 "nbformat": 4,
 "nbformat_minor": 2
}
